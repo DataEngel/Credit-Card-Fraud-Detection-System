{
 "cells": [
  {
   "cell_type": "markdown",
   "metadata": {
    "application/vnd.databricks.v1+cell": {
     "cellMetadata": {
      "byteLimit": 2048000,
      "rowLimit": 10000
     },
     "inputWidgets": {},
     "nuid": "58bbfeb6-5980-4554-8456-d1b492820571",
     "showTitle": false,
     "tableResultSettingsMap": {},
     "title": ""
    }
   },
   "source": [
    "# Monitoreo y Evaluación de Modelos de Detección de Fraude\n",
    "\n",
    "Este pipeline implementa un sistema de monitoreo y evaluación de rendimiento para un modelo de detección de fraudes. Está diseñado para analizar las predicciones generadas por el modelo y realizar análisis de distribución de características y predicciones. El proceso incluye el cálculo de métricas de rendimiento y la comparación con etiquetas verdaderas.\n",
    "\n",
    "## Configuración Inicial\n",
    "\n",
    "1. **Sesión de Spark**: Se crea una sesión de Spark para manejar grandes volúmenes de datos y ejecutar operaciones distribuidas.\n",
    "2. **Logging**: Configuración de un sistema de logging para rastrear el progreso y capturar posibles errores durante la ejecución.\n",
    "\n",
    "---\n",
    "\n",
    "## Rutas de Archivos\n",
    "\n",
    "### **Archivos de Entrada**\n",
    "- **Predicciones del modelo**: `/FileStore/tables/scored_transactions_results_batch`\n",
    "  - Contiene las predicciones generadas por el modelo, con columnas como `transaction_id`, `prob_0`, `prob_1`, y `prediction`.\n",
    "- **Etiquetas verdaderas procesadas**: `/FileStore/tables/etiquetas_verdaderas_processed`\n",
    "  - Contiene las etiquetas reales de fraude (`is_fraud`) asociadas con cada `transaction_id`.\n"
   ]
  },
  {
   "cell_type": "code",
   "execution_count": 0,
   "metadata": {
    "application/vnd.databricks.v1+cell": {
     "cellMetadata": {
      "byteLimit": 2048000,
      "rowLimit": 10000
     },
     "inputWidgets": {},
     "nuid": "5a3ac175-777d-420d-8582-78ddab339ee6",
     "showTitle": false,
     "tableResultSettingsMap": {},
     "title": ""
    }
   },
   "outputs": [
    {
     "output_type": "stream",
     "name": "stderr",
     "output_type": "stream",
     "text": [
      "2025-01-21 23:02:13,610 - INFO - Received command c on object id p0\n"
     ]
    }
   ],
   "source": [
    "import logging\n",
    "from pyspark.sql import SparkSession\n",
    "from pyspark.sql.functions import col, mean, stddev, count\n",
    "import matplotlib.pyplot as plt\n",
    "\n",
    "# Configuración de logging\n",
    "logging.basicConfig(level=logging.INFO, format='%(asctime)s - %(levelname)s - %(message)s')\n",
    "logger = logging.getLogger(__name__)\n",
    "\n",
    "# Crear sesión de Spark\n",
    "def create_spark_session(app_name=\"Model Monitoring\"):\n",
    "    try:\n",
    "        spark = SparkSession.builder.appName(app_name).getOrCreate()\n",
    "        logger.info(\"Spark session created successfully.\")\n",
    "        return spark\n",
    "    except Exception as e:\n",
    "        logger.error(f\"Failed to create Spark session: {str(e)}\")\n",
    "        raise\n"
   ]
  },
  {
   "cell_type": "markdown",
   "metadata": {
    "application/vnd.databricks.v1+cell": {
     "cellMetadata": {
      "byteLimit": 2048000,
      "rowLimit": 10000
     },
     "inputWidgets": {},
     "nuid": "1071248c-4c2f-4d8c-95e4-f5b8ea4f2704",
     "showTitle": false,
     "tableResultSettingsMap": {},
     "title": ""
    }
   },
   "source": [
    "## evaluate_model_performance\n",
    "\n",
    "### **Propósito:**\n",
    "Evalúa el rendimiento del modelo de detección de fraudes utilizando la métrica AUC (Área Bajo la Curva).\n",
    "\n",
    "### **Proceso:**\n",
    "1. Configura un evaluador binario para medir el rendimiento.\n",
    "2. Calcula la métrica AUC utilizando las probabilidades predichas y las etiquetas verdaderas.\n",
    "3. Registra el resultado en los logs.\n",
    "\n",
    "### **Output:**\n",
    "- **AUC**: Valor que indica el desempeño del modelo en la clasificación, donde valores cercanos a 1.0 indican un mejor rendimiento."
   ]
  },
  {
   "cell_type": "code",
   "execution_count": 0,
   "metadata": {
    "application/vnd.databricks.v1+cell": {
     "cellMetadata": {
      "byteLimit": 2048000,
      "rowLimit": 10000
     },
     "inputWidgets": {},
     "nuid": "0f33247c-e046-4827-8a15-fce3b38b30fb",
     "showTitle": false,
     "tableResultSettingsMap": {},
     "title": ""
    }
   },
   "outputs": [
    {
     "output_type": "stream",
     "name": "stderr",
     "output_type": "stream",
     "text": [
      "2025-01-21 23:02:13,739 - INFO - Received command c on object id p0\n"
     ]
    }
   ],
   "source": [
    "from pyspark.ml.evaluation import BinaryClassificationEvaluator\n",
    "\n",
    "def evaluate_model_performance(predictions, label_col=\"is_fraud\", prob_col=\"prob_1\"):\n",
    "    try:\n",
    "        # Usar prob_1 como columna de probabilidades\n",
    "        evaluator = BinaryClassificationEvaluator(\n",
    "            labelCol=label_col, \n",
    "            rawPredictionCol=prob_col, \n",
    "            metricName=\"areaUnderROC\"\n",
    "        )\n",
    "        auc = evaluator.evaluate(predictions)\n",
    "        logger.info(f\"Model AUC: {auc:.4f}\")\n",
    "        return auc\n",
    "    except Exception as e:\n",
    "        logger.error(f\"Error during model evaluation: {str(e)}\")\n",
    "        raise\n"
   ]
  },
  {
   "cell_type": "markdown",
   "metadata": {
    "application/vnd.databricks.v1+cell": {
     "cellMetadata": {
      "byteLimit": 2048000,
      "rowLimit": 10000
     },
     "inputWidgets": {},
     "nuid": "75bd3759-e7d4-4758-9196-dce76a773343",
     "showTitle": false,
     "tableResultSettingsMap": {},
     "title": ""
    }
   },
   "source": [
    "## feature_distribution_analysis\n",
    "\n",
    "### **Propósito:**\n",
    "Analiza la distribución de características clave en el conjunto de datos, calculando estadísticas básicas como media, desviación estándar y recuento.\n",
    "\n",
    "### **Proceso:**\n",
    "1. Itera sobre las columnas especificadas como características.\n",
    "2. Calcula la media, desviación estándar y número de valores para cada característica.\n",
    "3. Registra los resultados en los logs.\n",
    "\n",
    "### **Output:**\n",
    "- Estadísticas de cada característica:\n",
    "  - **Media**: Valor promedio de la característica.\n",
    "  - **Desviación estándar**: Variabilidad de los valores de la característica.\n",
    "  - **Recuento**: Número total de valores de la característica.\n"
   ]
  },
  {
   "cell_type": "code",
   "execution_count": 0,
   "metadata": {
    "application/vnd.databricks.v1+cell": {
     "cellMetadata": {
      "byteLimit": 2048000,
      "rowLimit": 10000
     },
     "inputWidgets": {},
     "nuid": "cc1f419c-bf32-47b0-bf10-3d762f373afe",
     "showTitle": false,
     "tableResultSettingsMap": {},
     "title": ""
    }
   },
   "outputs": [
    {
     "output_type": "stream",
     "name": "stderr",
     "output_type": "stream",
     "text": [
      "2025-01-21 23:02:13,833 - INFO - Received command c on object id p0\n"
     ]
    }
   ],
   "source": [
    "def feature_distribution_analysis(df, feature_columns):\n",
    "    try:\n",
    "        for feature in feature_columns:\n",
    "            stats = df.select(\n",
    "                mean(col(feature)).alias(\"mean\"),\n",
    "                stddev(col(feature)).alias(\"stddev\"),\n",
    "                count(col(feature)).alias(\"count\")\n",
    "            ).collect()[0]\n",
    "\n",
    "            logger.info(f\"Feature: {feature}, Mean: {stats['mean']:.2f}, StdDev: {stats['stddev']:.2f}, Count: {stats['count']}\")\n",
    "    except Exception as e:\n",
    "        logger.error(f\"Error during feature distribution analysis: {str(e)}\")\n",
    "        raise\n"
   ]
  },
  {
   "cell_type": "markdown",
   "metadata": {
    "application/vnd.databricks.v1+cell": {
     "cellMetadata": {
      "byteLimit": 2048000,
      "rowLimit": 10000
     },
     "inputWidgets": {},
     "nuid": "516513d9-7cc1-450b-97a6-99257fa058f4",
     "showTitle": false,
     "tableResultSettingsMap": {},
     "title": ""
    }
   },
   "source": [
    "## prediction_distribution_analysis\n",
    "\n",
    "### **Propósito:**\n",
    "Analiza la distribución de las predicciones generadas por el modelo, mostrando la cantidad de predicciones de cada clase y visualizándolas gráficamente.\n",
    "\n",
    "### **Proceso:**\n",
    "1. Agrupa las predicciones por clase y calcula el número de ocurrencias para cada clase.\n",
    "2. Registra los resultados en los logs.\n",
    "3. Genera un gráfico de barras que muestra la distribución de las predicciones.\n",
    "\n",
    "### **Output:**\n",
    "- **Conteo por clase**: Número de predicciones para cada clase (fraude/no fraude).\n",
    "- **Gráfico de barras**: Representación visual de la distribución de predicciones.\n"
   ]
  },
  {
   "cell_type": "code",
   "execution_count": 0,
   "metadata": {
    "application/vnd.databricks.v1+cell": {
     "cellMetadata": {
      "byteLimit": 2048000,
      "rowLimit": 10000
     },
     "inputWidgets": {},
     "nuid": "e2fcae1f-3e5d-4ee7-b13f-1bad6ab86d76",
     "showTitle": false,
     "tableResultSettingsMap": {},
     "title": ""
    }
   },
   "outputs": [],
   "source": [
    "def prediction_distribution_analysis(predictions):\n",
    "    try:\n",
    "        prediction_counts = predictions.groupBy(\"prediction\").count().collect()\n",
    "        for row in prediction_counts:\n",
    "            logger.info(f\"Prediction: {row['prediction']}, Count: {row['count']}\")\n",
    "\n",
    "        # Visualización\n",
    "        prediction_df = predictions.groupBy(\"prediction\").count().toPandas()\n",
    "        prediction_df.plot(kind=\"bar\", x=\"prediction\", y=\"count\", title=\"Prediction Distribution\")\n",
    "        plt.show()\n",
    "    except Exception as e:\n",
    "        logger.error(f\"Error during prediction distribution analysis: {str(e)}\")\n",
    "        raise\n"
   ]
  },
  {
   "cell_type": "markdown",
   "metadata": {
    "application/vnd.databricks.v1+cell": {
     "cellMetadata": {
      "byteLimit": 2048000,
      "rowLimit": 10000
     },
     "inputWidgets": {},
     "nuid": "ae9c8dd2-5b49-4b94-9670-4738d9cf6026",
     "showTitle": false,
     "tableResultSettingsMap": {},
     "title": ""
    }
   },
   "source": [
    "# Ejecución\n"
   ]
  },
  {
   "cell_type": "code",
   "execution_count": 0,
   "metadata": {
    "application/vnd.databricks.v1+cell": {
     "cellMetadata": {
      "byteLimit": 2048000,
      "rowLimit": 10000
     },
     "inputWidgets": {},
     "nuid": "61b42112-e762-4789-8ff8-26767370d275",
     "showTitle": false,
     "tableResultSettingsMap": {},
     "title": ""
    }
   },
   "outputs": [
    {
     "output_type": "stream",
     "name": "stderr",
     "output_type": "stream",
     "text": [
      "2025-01-21 23:02:14,058 - INFO - Spark session created successfully.\n2025-01-21 23:02:24,519 - INFO - Model AUC: 0.8706\n2025-01-21 23:02:24,521 - INFO - Pipeline completed successfully. Model AUC: 0.8706\n2025-01-21 23:02:27,459 - INFO - Prediction: 0.0, Count: 56718\n2025-01-21 23:02:27,463 - INFO - Prediction: 1.0, Count: 143064\n"
     ]
    },
    {
     "output_type": "display_data",
     "data": {
      "image/png": "[encoded data removed]"
     },
     "metadata": {
      "application/vnd.databricks.v1+output": {
       "addedWidgets": {},
       "arguments": {},
       "data": "data:image/png;base64,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\n",
       "datasetInfos": [],
       "metadata": {},
       "removedWidgets": [],
       "type": "image"
      }
     },
     "output_type": "display_data"
    }
   ],
   "source": [
    "from pyspark.sql.functions import col\n",
    "\n",
    "def main():\n",
    "    try:\n",
    "        # Crear sesión de Spark\n",
    "        spark = create_spark_session()\n",
    "\n",
    "        # Cargar las predicciones\n",
    "        predictions_path = \"/FileStore/tables/scored_transactions_results_batch\"\n",
    "        predictions = spark.read.format(\"csv\").option(\"header\", \"true\").load(predictions_path)\n",
    "\n",
    "        #predictions.show() \n",
    "\n",
    "        # Seleccionar solo las columnas necesarias\n",
    "        predictions = predictions.select(\"transaction_id\", \"prob_1\", \"prediction\")\n",
    "\n",
    "        # Convertir columnas relevantes a tipo numérico\n",
    "        predictions = predictions.withColumn(\"prob_1\", col(\"prob_1\").cast(\"double\")) \\\n",
    "                                 .withColumn(\"prediction\", col(\"prediction\").cast(\"double\"))\n",
    "\n",
    "        # Leer etiquetas verdaderas procesadas\n",
    "        ground_truth_path = \"/FileStore/tables/etiquetas_verdaderas_processed\"\n",
    "        ground_truth = spark.read.format(\"csv\").option(\"header\", \"true\").load(ground_truth_path)\n",
    "        \n",
    "        #ground_truth.show() \n",
    "\n",
    "        # Convertir 'is_fraud' a tipo numérico\n",
    "        ground_truth = ground_truth.withColumn(\"is_fraud\", col(\"is_fraud\").cast(\"double\"))\n",
    "\n",
    "        # Unir etiquetas reales con predicciones\n",
    "        predictions = predictions.join(ground_truth, on=\"transaction_id\", how=\"inner\")\n",
    "\n",
    "        # Evaluar métricas del modelo\n",
    "        auc = evaluate_model_performance(predictions, label_col=\"is_fraud\", prob_col=\"prob_1\")\n",
    "        logger.info(f\"Pipeline completed successfully. Model AUC: {auc:.4f}\")\n",
    "\n",
    "        # Análisis de distribución de predicciones\n",
    "        prediction_distribution_analysis(predictions)\n",
    "\n",
    "    except Exception as e:\n",
    "        logger.error(f\"Pipeline execution failed: {str(e)}\")\n",
    "        raise\n",
    "\n",
    "if __name__ == \"__main__\":\n",
    "    main()\n"
   ]
  },
  {
   "cell_type": "code",
   "execution_count": 0,
   "metadata": {
    "application/vnd.databricks.v1+cell": {
     "cellMetadata": {
      "byteLimit": 2048000,
      "rowLimit": 10000
     },
     "inputWidgets": {},
     "nuid": "a2d5027f-4a89-4121-91e0-5e33661bd31c",
     "showTitle": false,
     "tableResultSettingsMap": {},
     "title": ""
    }
   },
   "outputs": [
    {
     "output_type": "stream",
     "name": "stderr",
     "output_type": "stream",
     "text": [
      "2025-01-21 23:02:29,792 - INFO - Received command c on object id p0\n"
     ]
    }
   ],
   "source": [
    "from pyspark.sql.functions import expr, col\n",
    "import matplotlib.pyplot as plt\n",
    "\n",
    "def load_data(file_path, schema_casts):\n",
    "    \"\"\"\n",
    "    Carga datos desde un archivo CSV y aplica los casteos de esquema necesarios.\n",
    "\n",
    "    :param file_path: Ruta del archivo CSV.\n",
    "    :param schema_casts: Diccionario con las columnas y tipos a castear.\n",
    "    :return: DataFrame cargado y con tipos casteados.\n",
    "    \"\"\"\n",
    "    data = spark.read.format(\"csv\").option(\"header\", \"true\").load(file_path)\n",
    "    for column, data_type in schema_casts.items():\n",
    "        data = data.withColumn(column, col(column).cast(data_type))\n",
    "    return data\n",
    "\n",
    "def calculate_confusion_matrix(predictions):\n",
    "    \"\"\"\n",
    "    Calcula los valores de la matriz de confusión (TP, FP, TN, FN).\n",
    "\n",
    "    :param predictions: DataFrame con columnas 'prediction' y 'is_fraud'.\n",
    "    :return: Diccionario con los valores de la matriz de confusión.\n",
    "    \"\"\"\n",
    "    predictions = predictions.withColumn(\"tp\", expr(\"IF(prediction = 1.0 AND is_fraud = 1.0, 1, 0)\")) \\\n",
    "                               .withColumn(\"fp\", expr(\"IF(prediction = 1.0 AND is_fraud = 0.0, 1, 0)\")) \\\n",
    "                               .withColumn(\"tn\", expr(\"IF(prediction = 0.0 AND is_fraud = 0.0, 1, 0)\")) \\\n",
    "                               .withColumn(\"fn\", expr(\"IF(prediction = 0.0 AND is_fraud = 1.0, 1, 0)\"))\n",
    "\n",
    "    metrics = predictions.selectExpr(\n",
    "        \"SUM(tp) AS true_positives\",\n",
    "        \"SUM(fp) AS false_positives\",\n",
    "        \"SUM(tn) AS true_negatives\",\n",
    "        \"SUM(fn) AS false_negatives\"\n",
    "    ).collect()[0]\n",
    "\n",
    "    return {\n",
    "        \"tp\": metrics[\"true_positives\"],\n",
    "        \"fp\": metrics[\"false_positives\"],\n",
    "        \"tn\": metrics[\"true_negatives\"],\n",
    "        \"fn\": metrics[\"false_negatives\"]\n",
    "    }\n",
    "\n",
    "def calculate_metrics(confusion_matrix):\n",
    "    \"\"\"\n",
    "    Calcula métricas adicionales basadas en la matriz de confusión.\n",
    "\n",
    "    :param confusion_matrix: Diccionario con TP, FP, TN, FN.\n",
    "    :return: Diccionario con las métricas calculadas (accuracy, precision, recall, f1_score).\n",
    "    \"\"\"\n",
    "    tp = confusion_matrix[\"tp\"]\n",
    "    fp = confusion_matrix[\"fp\"]\n",
    "    tn = confusion_matrix[\"tn\"]\n",
    "    fn = confusion_matrix[\"fn\"]\n",
    "\n",
    "    accuracy = (tp + tn) / (tp + tn + fp + fn)\n",
    "    precision = tp / (tp + fp) if tp + fp > 0 else 0.0\n",
    "    recall = tp / (tp + fn) if tp + fn > 0 else 0.0\n",
    "    f1_score = (2 * precision * recall) / (precision + recall) if precision + recall > 0 else 0.0\n",
    "\n",
    "    return {\n",
    "        \"accuracy\": accuracy,\n",
    "        \"precision\": precision,\n",
    "        \"recall\": recall,\n",
    "        \"f1_score\": f1_score\n",
    "    }\n",
    "\n",
    "def plot_confusion_matrix(tp, fp, fn, tn):\n",
    "    \"\"\"\n",
    "    Grafica la matriz de confusión.\n",
    "\n",
    "    :param tp: True Positives\n",
    "    :param fp: False Positives\n",
    "    :param fn: False Negatives\n",
    "    :param tn: True Negatives\n",
    "    \"\"\"\n",
    "    matrix = [[tn, fp], [fn, tp]]\n",
    "    fig, ax = plt.subplots()\n",
    "    ax.matshow(matrix, cmap=plt.cm.Blues, alpha=0.7)\n",
    "    for i in range(2):\n",
    "        for j in range(2):\n",
    "            ax.text(x=j, y=i, s=matrix[i][j], ha='center', va='center', color=\"black\")\n",
    "    plt.xlabel('Predicted')\n",
    "    plt.ylabel('Actual')\n",
    "    plt.title(\"Confusion Matrix\")\n",
    "    plt.show()\n",
    "\n",
    "def plot_metric_distribution(metric_names, values, title):\n",
    "    \"\"\"\n",
    "    Grafica la distribución de las métricas.\n",
    "\n",
    "    :param metric_names: Nombres de las métricas.\n",
    "    :param values: Valores de las métricas.\n",
    "    :param title: Título de la gráfica.\n",
    "    \"\"\"\n",
    "    plt.bar(range(len(values)), values, alpha=0.6)\n",
    "    plt.xticks(range(len(values)), metric_names, rotation=45)\n",
    "    plt.ylabel(\"Score\")\n",
    "    plt.title(title)\n",
    "    plt.show()\n",
    "\n",
    "def plot_probability_distribution(probabilities):\n",
    "    \"\"\"\n",
    "    Grafica la distribución de probabilidades predichas.\n",
    "\n",
    "    :param probabilities: Lista de probabilidades.\n",
    "    \"\"\"\n",
    "    plt.hist(probabilities, bins=20, alpha=0.7, color='green', edgecolor='black')\n",
    "    plt.title(\"Probability Distribution\")\n",
    "    plt.xlabel(\"Predicted Probability\")\n",
    "    plt.ylabel(\"Frequency\")\n",
    "    plt.show()"
   ]
  },
  {
   "cell_type": "code",
   "execution_count": 0,
   "metadata": {
    "application/vnd.databricks.v1+cell": {
     "cellMetadata": {
      "byteLimit": 2048000,
      "rowLimit": 10000
     },
     "inputWidgets": {},
     "nuid": "aeb9451a-6b75-4ff8-b185-9e37d0c93be7",
     "showTitle": false,
     "tableResultSettingsMap": {},
     "title": ""
    }
   },
   "outputs": [
    {
     "output_type": "stream",
     "name": "stdout",
     "output_type": "stream",
     "text": [
      "Metrics: {'accuracy': 0.28571643090969157, 'precision': 0.002537325952021473, 'recall': 1.0, 'f1_score': 0.005061808446108474}\n"
     ]
    },
    {
     "output_type": "display_data",
     "data": {
      "image/png": "[encoded data removed]"
     },
     "metadata": {
      "application/vnd.databricks.v1+output": {
       "addedWidgets": {},
       "arguments": {},
       "data": "data:image/png;base64,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\n",
       "datasetInfos": [],
       "metadata": {},
       "removedWidgets": [],
       "type": "image"
      }
     },
     "output_type": "display_data"
    },
    {
     "output_type": "display_data",
     "data": {
      "image/png": "[encoded data removed]"
     },
     "metadata": {
      "application/vnd.databricks.v1+output": {
       "addedWidgets": {},
       "arguments": {},
       "data": "data:image/png;base64,iVBORw0KGgoAAAANSUhEUgAAAYIAAAEmCAYAAABvd5dxAAAAOXRFWHRTb2Z0d2FyZQBNYXRwbG90bGliIHZlcnNpb24zLjUuMSwgaHR0cHM6Ly9tYXRwbG90bGliLm9yZy/YYfK9AAAACXBIWXMAAAsTAAALEwEAmpwYAAAghElEQVR4nO3de5xXVb3/8dcb8IKJmoJ5AcQSK9TKxNQ8p0ytgxZSZipaZqloZWZa52hylOz4UzuZ1skbdvGWGXkpfIiilqRGlpiagqHkDdDybt4V/Pz+WGt0+2VmGC579gzr/Xw85sH3u/ee73xm8539/u611l5bEYGZmZWrT9MFmJlZsxwEZmaFcxCYmRXOQWBmVjgHgZlZ4RwEZmaFcxBYrSQNkxSS+nVh2/0l3dRNdW0v6V5Jz0n6ZHf8zJJIukrS55uuw7rGQWCvk/SApFckDWxZfls+mA9rqLRqoDyXvx6QdNQyvOTxwI8iYvWI+PVyKrPHquy/21qWD8z/5w908XUmSLpwcdtFxC4Rcd5SlmvdzEFgre4HxrY9kbQFsFpz5SxirYhYnVTjsZJGLck3V85MNgJmLk0BXTm76cFWk7R55fk+pP/z5UKJjyu9jP/DrNUFwH6V558Hzq9uIGlNSedLekzSg5LGt/3xS+or6XuSHpd0H/Dxdr73J5IekTRf0v9I6rukRUbEH0kH8s3z635R0t2SnpI0VdJGlZ8Zkr4i6V7gXkl/B94OXJHPLlaRtIGkyZKelDRH0kGV758g6RJJF0r6F7C/pGm59un5Na6QtI6kn0v6l6RbqmdQkn4gaW5ed6ukf295/Ul5nz4raaakkZX1QyRdlvf3E5J+VFnX4e/dgQtI/6dt9mPR/98NJF2af979kg7Ly0cB3wL2yr/zHXn5NEknSPoD8ALw9rzswMprHpTrfFbSLEnvz8v/K78PnpU0W9JOi6nf6hAR/vIXEQHwALAzMBt4N9AXmEf69BzAsLzd+cBvgAHAMOAe4IC87hDgb8AQYG3g+vy9/fL6y4GzgbcA6wJ/Bg7O6/YHbuqgtmFtrwMI2J500NkJGAPMyTX3A8YD0yvfG8C1uZ7+1d+1ss0NwBnAqsD7gMeAHfO6CcCrwCdJH576A9Pyz3wHsCYwK++HnXMN5wM/q7z+Z4F18rojgX8Aq1Ze/yVg17zPTwRuzuv6AncAp+Z9tirwb3ldp793B/tvGDA3v+6I/H+1M/BA3q4PcCtwLLAyKTDvA/6jUuuFLa89DXgI2CzXsVJedmBe/xlgPrB1/r/bhPSeemeuZYNKje9o+u+gxK/GC/BXz/nijSAYnw9Go/IBtF/lINIXeAUYUfm+g4Fp+fHvgEMq6z7GGwfwtwEvkw/Gef1Y4Pr8eH8WHwRPA08BdwOH5XVXkYMoP+9DComN8vMgH9Rbf9f8eAiwEBhQWX8icG5+PAG4oeX7pwHHVJ6fAlxVeT4auL2Tff0U8N7K619XWTcCeDE/3o4USv3aeY1Of+8O9l8/4DrgP4CTgGN4cxBsAzzU8r1Hk0ONjoPg+HaWtQXBVOBr7dS0CfBo/vkrNf3+L/mrN7d1Wn0uIH1C3piWZgNgIOkT34OVZQ8CG+bHG5A+5VXXtdkof+8jktqW9WnZfnEGRsSClmUbAT+QdEplmXJNbT+/s5+xAfBkRDzbUvfIyvP2vv+flccvtvN89deLkb4BHJB/VgBrkPZlm39UHr8ArJr7IoYAD7bzO0PXfu/2nE8K3Q8C/w5s2vKaG0h6urKsL3BjJ68Hne/fIcDfWxdGxBxJh5PCZTNJU4EjIuLhxfwsW87cR2CLiIgHSR2IuwKXtax+nNRMUm2LHko69Qd4hPSHX13XZi7pjGBgRKyVv9aIiM2WseS5pOaltSpf/SNievXX6uT7HwbWljSgpe75ledLPU1v7g/4T2BP4K0RsRbwDOmgvThzgaEddFB35fduz6Wkvpv7IuKhdl7z/pbXHBARu+b1He2HzvbPXFIT2qLfFHFRRPwbbzQ/nryY2q0GDgLryAGk5pTnqwsjYiEwCThB0oDcOXkE0DakcBJwmKTBkt4KHFX53keAa4BTJK0hqY+kd0j68DLWehZwtKTN4PUO6c909ZsjYi4wHThR0qqS3kP6/Rc7TLKLBgALyE08ko4lnRF0xZ9J4XqSpLfk+rbP65bq987/pzsCB7az+s/As7kTt3/u/N9c0tZ5/T+BYVqykUE/Br4haSslm0jaSNI7Je0oaRVSH8mLwGtL8Lq2nDgIrF0R8feImNHB6q8Cz5M6EW8CLgJ+mtedQ2oTvgP4C4ueUexH6oScRWonvwRYfxlrvZz0SfLiPKrnLmCXJXyZsaR29IdJHdrHRcR1y1JXxVTgalJn8oOkg16XmsNy8I4mtac/ROq83yuvW+rfOyJmRER7zTULgU+QOszvJ50B/pjUIQ7wq/zvE5L+0sWf9SvgBNL75Fng16SO+1VI/RSPk5rG1iX1R1g3U4RvTGNmVjKfEZiZFc5BYGZWOAeBmVnhHARmZoVzEJiZFa7XXVk8cODAGDZsWNNlmJn1KrfeeuvjETGovXW9LgiGDRvGjBkdDW83M7P2SOpw2hE3DZmZFc5BYGZWOAeBmVnhHARmZoVzEJiZFa62IJD0U0mPSrqrg/WS9MN8f9i/tt3D1MzMuledZwTnkm512JFdgOH5axxwZo21mJlZB2oLgoi4AXiyk03GAOdHcjOwlqRlmpfezMyWXJMXlG3Im2/OMS8ve6R1Q0njSGcNDB06tHW1dZOjL7uz6RIadeLuWzRdglktekVncURMjIiRETFy0KB2r5A2M7Ol1GQQzOfNNzkfzJtvFm5mZt2gySCYDOyXRw9tCzyTb25uZmbdqLY+Akm/AHYABkqaBxwHrAQQEWcBU4BdgTnAC8AX6qrFzMw6VlsQRMTYxawP4Ct1/XwzM+uaXtFZbGZm9XEQmJkVzkFgZlY4B4GZWeEcBGZmhXMQmJkVzkFgZlY4B4GZWeEcBGZmhXMQmJkVzkFgZlY4B4GZWeEcBGZmhXMQmJkVzkFgZlY4B4GZWeEcBGZmhXMQmJkVzkFgZlY4B4GZWeEcBGZmhXMQmJkVzkFgZlY4B4GZWeEcBGZmhXMQmJkVzkFgZlY4B4GZWeEcBGZmhXMQmJkVzkFgZlY4B4GZWeFqDQJJoyTNljRH0lHtrB8q6XpJt0n6q6Rd66zHzMwWVVsQSOoLnA7sAowAxkoa0bLZeGBSRGwJ7A2cUVc9ZmbWvjrPCD4AzImI+yLiFeBiYEzLNgGskR+vCTxcYz1mZtaOfjW+9obA3MrzecA2LdtMAK6R9FXgLcDONdZjZmbtaLqzeCxwbkQMBnYFLpC0SE2SxkmaIWnGY4891u1FmpmtyOoMgvnAkMrzwXlZ1QHAJICI+COwKjCw9YUiYmJEjIyIkYMGDaqpXDOzMtUZBLcAwyVtLGllUmfw5JZtHgJ2ApD0blIQ+CO/mVk3qi0IImIBcCgwFbibNDpopqTjJe2WNzsSOEjSHcAvgP0jIuqqyczMFlVnZzERMQWY0rLs2MrjWcD2ddZgZmada7qz2MzMGuYgMDMrnIPAzKxwDgIzs8I5CMzMCucgMDMrnIPAzKxwDgIzs8I5CMzMCucgMDMrnIPAzKxwDgIzs8I5CMzMCucgMDMrnIPAzKxwDgIzs8I5CMzMCucgMDMrnIPAzKxwDgIzs8I5CMzMCucgMDMrnIPAzKxwDgIzs8I5CMzMCucgMDMrnIPAzKxwDgIzs8I5CMzMCucgMDMrnIPAzKxwDgIzs8LVGgSSRkmaLWmOpKM62GZPSbMkzZR0UZ31mJnZovrV9cKS+gKnAx8F5gG3SJocEbMq2wwHjga2j4inJK1bVz1mZta+Os8IPgDMiYj7IuIV4GJgTMs2BwGnR8RTABHxaI31mJlZO+oMgg2BuZXn8/Kyqk2BTSX9QdLNkkbVWI+ZmbWjtqahJfj5w4EdgMHADZK2iIinqxtJGgeMAxg6dGg3l2hmtmKr84xgPjCk8nxwXlY1D5gcEa9GxP3APaRgeJOImBgRIyNi5KBBg2or2MysRHUGwS3AcEkbS1oZ2BuY3LLNr0lnA0gaSGoquq/GmszMrEVtQRARC4BDganA3cCkiJgp6XhJu+XNpgJPSJoFXA98MyKeqKsmMzNbVJf7CCT1B4ZGxOyufk9ETAGmtCw7tvI4gCPyl5mZNaBLZwSSRgO3A1fn5++T1NrMY2ZmvVBXm4YmkK4LeBogIm4HNq6lIjMz61ZdDYJXI+KZlmWxvIsxM7Pu19U+gpmS9gH65mkhDgOm11eWmZl1l66eEXwV2Ax4GbgIeAY4vKaazMysGy32jCBPHndlRHwEOKb+kszMrDst9owgIhYCr0lasxvqMTOzbtbVPoLngDslXQs837YwIg6rpSozM+s2XQ2Cy/KXmZmtYLoUBBFxXp4vaNO8aHZEvFpfWWZm1l26FASSdgDOAx4ABAyR9PmIuKG2yszMrFt0tWnoFOBjbfMMSdoU+AWwVV2FmZlZ9+jqdQQrVSebi4h7gJXqKcnMzLpTV88IZkj6MXBhfr4vMKOekszMrDt1NQi+BHyFNLUEwI3AGbVUZGZm3aqrQdAP+EFEfB9ev9p4ldqqMjOzbtPVPoLfAv0rz/sD1y3/cszMrLt1NQhWjYjn2p7kx6vVU5KZmXWnrgbB85Le3/ZE0kjgxXpKMjOz7tTVPoLDgV9Jejg/Xx/Yq5aKzMysW3V6RiBpa0nrRcQtwLuAXwKvku5dfH831GdmZjVbXNPQ2cAr+fF2wLeA04GngIk11mVmZt1kcU1DfSPiyfx4L2BiRFwKXCrp9lorMzOzbrG4M4K+ktrCYifgd5V1Xe1fMDOzHmxxB/NfAL+X9DhplNCNAJI2Id232MzMerlOgyAiTpD0W9IooWsiIvKqPqQb2puZWS+32OadiLi5nWX31FOOmZl1t65eUGZmZisoB4GZWeEcBGZmhXMQmJkVzkFgZlY4B4GZWeFqDQJJoyTNljRH0lGdbPdpSZGntzYzs25UWxDk21meDuwCjADGShrRznYDgK8Bf6qrFjMz61idZwQfAOZExH0R8QpwMTCmne2+A5wMvFRjLWZm1oE6g2BDYG7l+by87HX5rmdDIuLKGuswM7NONNZZLKkP8H3gyC5sO07SDEkzHnvssfqLMzMrSJ1BMB8YUnk+OC9rMwDYHJgm6QFgW2Byex3GETExIkZGxMhBgwbVWLKZWXnqDIJbgOGSNpa0MrA3MLltZUQ8ExEDI2JYRAwDbgZ2i4gZNdZkZmYtaguCiFgAHApMBe4GJkXETEnHS9qtrp9rZmZLpta7jEXEFGBKy7JjO9h2hzprMTOz9vnKYjOzwjkIzMwK5yAwMyucg8DMrHAOAjOzwjkIzMwK5yAwMyucg8DMrHAOAjOzwjkIzMwK5yAwMyucg8DMrHAOAjOzwjkIzMwK5yAwMyucg8DMrHAOAjOzwjkIzMwKV+utKs3MlqejL7uz6RIadeLuW9Tyuj4jMDMrnIPAzKxwDgIzs8I5CMzMCucgMDMrnIPAzKxwDgIzs8I5CMzMCucgMDMrnIPAzKxwDgIzs8I5CMzMCucgMDMrXK1BIGmUpNmS5kg6qp31R0iaJemvkn4raaM66zEzs0XVFgSS+gKnA7sAI4Cxkka0bHYbMDIi3gNcAny3rnrMzKx9dZ4RfACYExH3RcQrwMXAmOoGEXF9RLyQn94MDK6xHjMza0edQbAhMLfyfF5e1pEDgKtqrMfMzNrRI+5QJumzwEjgwx2sHweMAxg6dGg3VmZmtuKr84xgPjCk8nxwXvYmknYGjgF2i4iX23uhiJgYESMjYuSgQYNqKdbMrFR1BsEtwHBJG0taGdgbmFzdQNKWwNmkEHi0xlrMzKwDtQVBRCwADgWmAncDkyJipqTjJe2WN/tfYHXgV5JulzS5g5czM7Oa1NpHEBFTgCkty46tPN65zp9vZmaL5yuLzcwK5yAwMyucg8DMrHAOAjOzwjkIzMwK5yAwMyucg8DMrHAOAjOzwjkIzMwK5yAwMyucg8DMrHAOAjOzwjkIzMwK5yAwMyucg8DMrHAOAjOzwjkIzMwK5yAwMyucg8DMrHAOAjOzwjkIzMwK5yAwMyucg8DMrHAOAjOzwjkIzMwK5yAwMyucg8DMrHAOAjOzwjkIzMwK5yAwMyucg8DMrHAOAjOzwjkIzMwKV2sQSBolabakOZKOamf9KpJ+mdf/SdKwOusxM7NF1RYEkvoCpwO7ACOAsZJGtGx2APBURGwCnAqcXFc9ZmbWvn41vvYHgDkRcR+ApIuBMcCsyjZjgAn58SXAjyQpIqLGuswacfRldzZdQuNO3H2LpkuwdtQZBBsCcyvP5wHbdLRNRCyQ9AywDvB4dSNJ44Bx+elzkmbXUnH9BtLyu9kSaXT/ndTUD16+vA+XTW/efxt1tKLOIFhuImIiMLHpOpaVpBkRMbLpOnor779l5324bFbU/VdnZ/F8YEjl+eC8rN1tJPUD1gSeqLEmMzNrUWcQ3AIMl7SxpJWBvYHJLdtMBj6fH+8B/M79A2Zm3au2pqHc5n8oMBXoC/w0ImZKOh6YERGTgZ8AF0iaAzxJCosVWa9v3mqY99+y8z5cNivk/pM/gJuZlc1XFpuZFc5BYL2eJDVdg1lv5iCwFcGApgsw680cBNZrSeojaQgwT1LrxYpmjctT7fR4DoIeSJL/X7pmpYiYCxwHXCFphbvQp7u5mW35yXOr7Zwf9+hA6BVXFpcmIl4DkLQnIOCRiLih2ap6jnyweifwc0mfjIhTJb0MXCvpoxExo+ESe62263gkfYk03ctAYHxEPNdoYb3TJ4CdgKkRsbDpYjrjT549lKR9SbOxbgacLWlswyX1GJH8jXTR4iRJG0bEGcAxpDDwmcEyyNf/fAa4HBgN/GezFfUubZ/+I+K7pLnRdm+4pMXyGUEPJOnjpNlbd4mIv0m6ETgrT8x6ccPlNU5Sn4h4LSIOkfRD4Nf5zOCM3LIxRdKYiPhjw6X2Cu3M+LseaWbgg4C7geMl9Qde6emfbJsmaStgG0nzI+I3wO/pZLK3nsJnBD1AW7tspW9gNKltcRNJ/SLiWuAQ4ExJezRUZuPa9lNEvCZpQH58GHAT8JvKmcHJwEWSVm2u2t6hGgKSDpB0ELAxaVr4rYE9ImIB8EVgz+Yq7bkqf7/rAmsDqwDfkDQ+b3JYTz9LdRA0rOXT2PoAEXEIMAnYB9g4b3MtsDtweyOFNqzlgHUYcLKkH0haIyK+DkwDLpU0JCJOAd4fES81WHKvUNmnHwb2jYhzSDeU2g6YFBEvSfoc8GXgz81V2nNFROSz+KnAXRFxKql/4FXS0Oa3AjtAzx0I4ikmeghJh5AO/A8Aj0bENySdAAwF/h/wN0/IB5K+DOxFasO+HZgOHBMRsyWdCbyLdDYVbZ3u1jlJWwPHA89ExN552aeA/wVuJO3TAyNiZnNV9lyS3g/8DDg0Im6U1DciFrZ9eMlnWeOAHSLi+WarbV+PTKcSSFqt8ngX0ieug0m37HyrpJ9FxDHAK8DXKLQ/pzqcMe+zzYGx+esO4GlgoqR3RcSXgL0iYqFDoGPtDBG9lfRpdnVJO0paJSIuJ414+SYwxiHQqVWAq3MIrApEZTn5LOsRUr9fj1TkwaVpkt4NfFDSebn99TXgNxFxd74vwxHATyRtEREHSFovIl5ttOgGtDQHvSci/pqbhd5NOjjtmNf9A/iipPER8WiDJfd4Lft0H2At4KWIOC3nw1ggJE2PiAebq7RX6Q/sKenUiPgHvN7UNkjSpaQ+l8Gks/0eyWcEzVgV+DXwDkmbAP8EDpS0XUQsiIhngBfJow3a3lylqRywDifdz3pwDs7ngH6StpY0mjQy40cR8Upz1fYOlX16CHA46cPgXpKmRMRpwEzgAHrwp9cmVTqGt5d0sKQtI+J3wJnA9ZI+lN+TZwHP5/39CLBTRNzfXOWdcx9BN2ob9pgfrw58n/QmOQX4aP73GGA1Upvinj35zdMdJI0CJgCjI+KxvOwtpP0zinSHuz0iYlZjRfYClfbqPqT7g1wEnBYRf8jrrwDuj4jDJB0FnFvqB5DFkfQJ4ETSgI4dgStJB/798vM+wI8jYko7Q3N7JJ8RdJP8hmgLgQ8BC4DzSAf9w0ifag8BPgxsC3yh9BDIFgK/j4jHcniSO9x+DnwO2Nkh0LmWg9Gg3Mz4ErBuZbNvAisDRMRJDoH2SXo76YC/K6lvZQgwnNTHd05E7AHs3ZtCABwE3aZySn4kcCywfv40djkwiNRRfFtEjCON0LirsWIb0tqJmZ8/D+wiaaXI0xwoXXX90Yh4NCIebqDUXqXy3juYNBIIUufwREltTUDbka5bWa2dzmQDJG1HmnLjONL0G98hfXD7I+kM9WilC+8WwBv7vTdwZ3HNJK1DGpa3QNJOpHszfygiXs39A/eQmoj+G/ispP8jjT8uTuWAdSipg20N0vQGVwJ/kXRcXn4Q8Kmm6uxNKk1C+5HOOPcEiIgL80HrHEm3AlsCn42IFxost8fKAzxOAg6OdLX/aGBWRMyXdA9pKPMvI+LFJutcWg6CGuUD/Z6kIaELSKfezwK7StqedOXm+4ARpM6meaV1eLaePitNdvZJ0iesy4H/jogjJD0GjCRNf/CpiLi7iXp7C0nvAe6tHJiGA8dGxL2S+kfEixFxjqSrSX0Gr0bE/MYK7sEkvRP4E3BipDmuIJ0F/FTShaSzqa9ExOymalxW7iyumaS3kj7FrgNcTwqFYcCZuR3xFOCqiLiuuSqbk8esv1x5PgH4IfAFUsfbp0lnSMpnVX3D8910Kl+X8kPgq8A1kabkOIY0geGX8qi0ttltZ5XYDNlVklaLiBck/QT4ODCkbSi3pA1I08HcGRHTm6xzWTkIatDWxlpp6jiOdPD/SUTcVNluL+DbwKiIeKD7K22WpI8BXyKdVt8VEZdKmkg6S5oD7JcP/oeSOo3PJk8+2lDJPZ6kHUgh8OWW99q7SZ2cT5IGKewAfB0YW+J7ryskvQs4GjgpX+NzLmlY7Qo3fYk7i5eztqaO3C47VtInIuLbwL3AfpJ2kjRA0kdInU6fLvEPMQ8L/Q5wHel9uIuktUlDaNcndZwvkLQ/aUTGdZFmHHUIdG4n4OKIuEnSGpK2ysNB1wHuI3V2TiIF8MElvve6KjcDvQwcKWnTiNgfuAG4R9IqjRa3nPmMoCaSvgbsSxoGOjMvGw+8DZhCmjGzfxR4JWw+4D9Oujr4CkmDgRNIw+9ukrQZcC7p4qbhwEEeIto1OTg3I72/9iGdSW1BatP+S0ScJeltwAsR8WxjhfZgSncWWzcipuXnp5FmFf12RPw9NxOdFyvQzaIcBDWQtD5wDnBARPxT0sptncCSjgfWBI4ueYSG0myN3wW2i4h/SbqStF/+Qprl8o/AEwAR8XRTdfY2krYEPgt8BPgD8IuImJ4DYseI2K/J+nqqyuiqlUhNZpuTLgq7Ia+/knRW9YW2gQq96TqBxfGooeWgnTfEM6QJp95P6ghuC4FNI+JYSWuXHAIAEXGlpNeAW/PIlT6kZqF1SVMf7AB83Z9al0xE3CZpJrBaRDytN+6VuxDo39b52WCJPU4lBD5Cmu7lUtJkj2OVZgOYBpwBjOeNCeV61XUCi+MzgmVUDQFJm5ImkPs7cBRpqOi0iLhL6VaTewBfbBu1YSBpZ+Aa0gV2/8zL+gBrR8TjjRbXy+RBCsqjhF6fChk4kNQnsJ9HCLUv91m1dbJfl4d+t90g6jbSFDBHVjvgVyQOguVE0jdJHXX9SO2zt5LeRMNJTRwjSXPieDrfFnm44ymk+dqL6zNZGnkU0EtRmYak8sl2e+C9pE7hnUlDcY90CCwqB+UapEkgJ0TE7yvr1ied1X8CuDwirmmkyG7gIFhKLWcCbZ8WRuXhj4Mi4lOS1iM1dQwhjTV+qMGSezRJY0ijqEaG7yXQKUm7kYbSXgl8v9qRnjs6rwQOyx3x6wCvRcRTzVTbs+Wmsz7A1aQ7tP2j7YK73IT7ZCVgV5g+gVYOgqXQEgKDSJ2co/O/25JGw7wsaauIuLXBUnsVSatHnk/I2qc08+pPSXPbzyedcZ6Rx7n3Ib3/FkTEn1fkA9eyqBzY/w3YOCIukHQWsDqp6fYVpfsJTCDdHvaZFf3Dia8jWALKKiFwEHAt6aYTHyf9Ee6eQ+ArwPfyNQOexKsLHAKdk7R+pJlXDyfdWnIaaRjulyVtnq+zmB4RvrdwJ3IIjCINUZ6XF38beAqYLumrwI+AUyPiqRU9BMBnBEtEUr9IN0ZBaQK540nt/o9I+h/ShVBt8418jjQdrfsEbJkpzYF/LKm9+onI02xIei9pbqZBpHtZbE66r4BnZe2ApLVIw7vPjHRTmeq6caQZb+dHxLRSzqo8fLSLcj/AFyXdQbpKeCFpsrhPkU7Nx0v6HLABqYnoM/HGBFVmSy1/ev0v4LiIeDSPdV8IEBF35BPOD5NGX40gXUBmmdKkcVsCf4iIuXlY7dPA23JzGnmk1SbA+VGZPqKEEAA3DXVJ/kM8AZgOvIV0Z6yngUOB0ZI+AxARF0TEycB4h4AtD/kq7CnAKRFxlaR3AD+WtHblIHYHMJQ0MGHb8LQRr8vNsuOAC4DvSvqBpDVI1wusBwzNIbAV8D3Slf/F8RnBYlT+EMfkURhDSVfEDoiIn0taCOyrdOOUi/K3FfEpwuqXR62MBr4j6T7S7LVXRMST8Pqol5WBbUj9U26KrMj9AVeT9s940r0/vkEaybctsEEeWbU1aZruBxsrtkE+I1iM/Ac3GjhJ0hp5COhCUhMQpJC4HNhNb9xK0UFgy01EXAl8izRL67URcZqkPrn9emGkew7sGBG3NVpoDxUR15I61feJiDHA/aQr1wfnTZ7O6y4vdWCHO4u7SG/M8T6VFAL75j/AthvR94mIfzVYoq3gcj/V/wHbRMQzLYMXiujUXFKVoaJbA7sBl5Dud30aaQjuB0kXi93ZWJE9gINgCVSmQ1gvd9r1j156azrrnfIHktNIk/U92XA5vYakdUn9BB8CDo+Is/Nyz72Em4aWSKS7iH0cuF7Sug4B624RcRXpPs7XtTUPNV1Tb5CnLhlPal6bDGlOK4dA4jOCpVCdDgHfMcsa4Kuwl1wednsm6az+khIuFOsqB8FS8h+iWe+T+wpWil5+j+HlzUFgZlY49xGYmRXOQWBmVjgHgZlZ4RwEZmaFcxCYmRXOQWBmVjgHgZlZ4f4/fy99bBucBvAAAAAASUVORK5CYII=\n",
       "datasetInfos": [],
       "metadata": {},
       "removedWidgets": [],
       "type": "image"
      }
     },
     "output_type": "display_data"
    },
    {
     "output_type": "display_data",
     "data": {
      "image/png": "[encoded data removed]"
     },
     "metadata": {
      "application/vnd.databricks.v1+output": {
       "addedWidgets": {},
       "arguments": {},
       "data": "data:image/png;base64,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\n",
       "datasetInfos": [],
       "metadata": {},
       "removedWidgets": [],
       "type": "image"
      }
     },
     "output_type": "display_data"
    }
   ],
   "source": [
    "from pyspark.sql import SparkSession\n",
    "from pyspark.sql.functions import expr, col\n",
    "import matplotlib.pyplot as plt\n",
    "\n",
    "# Inicializar la sesión de Spark\n",
    "spark = SparkSession.builder \\\n",
    "    .appName(\"Fraud Detection Evaluation\") \\\n",
    "    .master(\"local[*]\") \\\n",
    "    .getOrCreate()\n",
    "\n",
    "def load_data(file_path, schema_casts):\n",
    "    \"\"\"\n",
    "    Carga datos desde un archivo CSV y aplica los casteos de esquema necesarios.\n",
    "\n",
    "    :param file_path: Ruta del archivo CSV.\n",
    "    :param schema_casts: Diccionario con las columnas y tipos a castear.\n",
    "    :return: DataFrame cargado y con tipos casteados.\n",
    "    \"\"\"\n",
    "    data = spark.read.format(\"csv\").option(\"header\", \"true\").load(file_path)\n",
    "    for column, data_type in schema_casts.items():\n",
    "        data = data.withColumn(column, col(column).cast(data_type))\n",
    "    return data\n",
    "\n",
    "# Resto del código (sin cambios)\n",
    "if __name__ == \"__main__\":\n",
    "    try:\n",
    "        # Cargar datos\n",
    "        ground_truth = load_data(\"/FileStore/tables/etiquetas_verdaderas_processed\", {\"is_fraud\": \"double\"})\n",
    "        predictions = load_data(\"/FileStore/tables/scored_transactions_results_batch\", {\"prediction\": \"double\", \"prob_1\": \"double\"})\n",
    "\n",
    "        # Unir etiquetas reales con predicciones\n",
    "        predictions = predictions.join(ground_truth, on=\"transaction_id\", how=\"inner\")\n",
    "\n",
    "        # Calcular métricas\n",
    "        confusion_matrix = calculate_confusion_matrix(predictions)\n",
    "        metrics = calculate_metrics(confusion_matrix)\n",
    "\n",
    "        # Mostrar métricas\n",
    "        print(f\"Metrics: {metrics}\")\n",
    "\n",
    "        # Graficar\n",
    "        plot_confusion_matrix(confusion_matrix[\"tp\"], confusion_matrix[\"fp\"], confusion_matrix[\"fn\"], confusion_matrix[\"tn\"])\n",
    "        plot_metric_distribution([\"Precision\", \"Recall\", \"F1-Score\", \"Accuracy\"],\n",
    "                                 [metrics[\"precision\"], metrics[\"recall\"], metrics[\"f1_score\"], metrics[\"accuracy\"]],\n",
    "                                 \"Model Performance Metrics\")\n",
    "        probabilities = predictions.select(\"prob_1\").rdd.map(lambda row: row[\"prob_1\"]).collect()\n",
    "        plot_probability_distribution(probabilities)\n",
    "\n",
    "    except Exception as e:\n",
    "        print(f\"Pipeline execution failed: {str(e)}\")\n",
    "        raise\n"
   ]
  },
  {
   "cell_type": "markdown",
   "metadata": {
    "application/vnd.databricks.v1+cell": {
     "cellMetadata": {
      "byteLimit": 2048000,
      "rowLimit": 10000
     },
     "inputWidgets": {},
     "nuid": "9fb812a2-6671-4e62-afae-e50a316a655c",
     "showTitle": false,
     "tableResultSettingsMap": {},
     "title": ""
    }
   },
   "source": [
    "## Conclusiones\n",
    "\n",
    "### Rendimiento del Modelo\n",
    "- El modelo obtuvo un **AUC de 0.8706**, lo que indica un desempeño sólido en la tarea de clasificación entre transacciones fraudulentas y no fraudulentas. Esto refleja una alta capacidad del modelo para diferenciar entre ambas clases.\n",
    "\n",
    "### Distribución de Predicciones\n",
    "- Las predicciones generadas por el modelo se distribuyen en dos clases:\n",
    "  - **No fraude (0.0)**: 56,718 transacciones.\n",
    "  - **Fraude (1.0)**: 143,064 transacciones.\n",
    "- La mayor proporción de predicciones en la clase de fraude puede ser indicativa de un conjunto de datos con desbalance de clases, lo cual fue considerado en las etapas previas del pipeline.\n",
    "\n",
    "### Métricas Adicionales\n",
    "- **Accuracy (28.57%)**: La exactitud es baja, lo que sugiere que el modelo no clasifica correctamente una gran proporción de las transacciones, considerando tanto fraudes como no fraudes.\n",
    "- **Precision (0.25%)**: La precisión es extremadamente baja, indicando que solo un pequeño porcentaje de las transacciones marcadas como fraude por el modelo realmente son fraudulentas. Esto puede ser un problema en escenarios donde los falsos positivos tienen un costo elevado.\n",
    "- **Recall (100%)**: El modelo tiene un recall perfecto, lo que significa que está identificando correctamente todos los fraudes reales. Sin embargo, este alto recall viene a costa de una precisión baja, probablemente debido a un exceso de falsos positivos.\n",
    "- **F1-Score (0.51%)**: El F1-Score, que equilibra precisión y recall, es extremadamente bajo, reflejando la poca capacidad del modelo para mantener un buen balance entre detectar fraudes y evitar clasificaciones erróneas.\n",
    "\n",
    "---\n",
    "\n",
    "## Implicaciones\n",
    "\n",
    "### Fortalezas\n",
    "- El modelo asegura que no se pase por alto ningún caso de fraude (alto recall), lo cual es crucial en aplicaciones donde identificar todos los fraudes es la prioridad principal.\n",
    "- El AUC alto confirma que el modelo tiene un buen desempeño general en términos de diferenciación entre clases.\n",
    "\n",
    "### Debilidades\n",
    "1. La baja precisión implica que el modelo genera demasiados falsos positivos, lo cual puede causar un aumento en los costos operativos debido a la necesidad de investigar transacciones que realmente no son fraudulentas.\n",
    "2. La baja exactitud indica que el modelo no está equilibrado y que probablemente está sesgado hacia predecir la mayoría de las transacciones como fraudulentas.\n",
    "\n",
    "### Ejecución del Pipeline\n",
    "- La creación de la sesión de Spark y la integración de las predicciones con las etiquetas verdaderas se realizaron sin problemas.\n",
    "- El análisis de las predicciones y la evaluación de métricas confirman la robustez del proceso implementado, aunque se recomienda ajustar el modelo para mejorar la precisión sin comprometer el recall.\n"
   ]
  },
  {
   "cell_type": "markdown",
   "metadata": {
    "application/vnd.databricks.v1+cell": {
     "cellMetadata": {
      "byteLimit": 2048000,
      "rowLimit": 10000
     },
     "inputWidgets": {},
     "nuid": "b3623d41-16b6-4bed-a8b8-190b53c8a01a",
     "showTitle": false,
     "tableResultSettingsMap": {},
     "title": ""
    }
   },
   "source": [
    "# Tests\n",
    "\n",
    "**Nota:** Estas pruebas unitarias, debido a limitaciones de tiempo y a la imposibilidad de ejecutarlas directamente en el mismo notebook, se dejaron de forma hipotética (no las ejecuté como tal, pero aún asi las hice por el requerimiento). Según la metodología de pytest, estas pruebas se ejecutan en archivos `.py`. Por esta razón, decidí priorizar otros pasos del proceso."
   ]
  },
  {
   "cell_type": "code",
   "execution_count": 0,
   "metadata": {
    "application/vnd.databricks.v1+cell": {
     "cellMetadata": {
      "byteLimit": 2048000,
      "rowLimit": 10000
     },
     "inputWidgets": {},
     "nuid": "26928244-d884-44c2-9076-df8b22a8053d",
     "showTitle": false,
     "tableResultSettingsMap": {},
     "title": ""
    }
   },
   "outputs": [
    {
     "output_type": "stream",
     "name": "stderr",
     "output_type": "stream",
     "text": [
      "2025-01-21 23:06:19,743 - INFO - Received command c on object id p0\n"
     ]
    }
   ],
   "source": [
    "import unittest\n",
    "from unittest.mock import patch, MagicMock\n",
    "\n",
    "class TestFunctions(unittest.TestCase):\n",
    "    # Configura el entorno de pruebas antes de ejecutar cualquier caso\n",
    "    @classmethod\n",
    "    def setUpClass(cls):\n",
    "        cls.spark = SparkSession.builder.master(\"local[1]\").appName(\"TestSuite\").getOrCreate()\n",
    "    # Limpia el entorno de pruebas después de que todos los casos hayan sido ejecutados\n",
    "    @classmethod\n",
    "    def tearDownClass(cls):\n",
    "        cls.spark.stop()\n",
    "    # Prueba la función evaluate_model_performance para evaluar que calcule correctamente el AUC del modelo\n",
    "    def test_evaluate_model_performance(self):\n",
    "        schema = StructType([\n",
    "            StructField(\"is_fraud\", DoubleType(), True),\n",
    "            StructField(\"prob_1\", DoubleType(), True)\n",
    "        ])\n",
    "        data = [(1.0, 0.9), (0.0, 0.2), (1.0, 0.8), (0.0, 0.1)]\n",
    "        df = self.spark.createDataFrame(data, schema=schema)\n",
    "\n",
    "        with patch(\"builtins.print\") as mocked_print:\n",
    "            result = evaluate_model_performance(df, label_col=\"is_fraud\", prob_col=\"prob_1\")\n",
    "            self.assertGreater(result, 0.0)\n",
    "    # Prueba la función feature_distribution_analysis para verificar que analiza correctamente las estadísticas de las características\n",
    "    def test_feature_distribution_analysis(self):\n",
    "        schema = StructType([\n",
    "            StructField(\"feature1\", DoubleType(), True),\n",
    "            StructField(\"feature2\", DoubleType(), True)\n",
    "        ])\n",
    "        data = [(1.0, 0.5), (2.0, 1.5), (3.0, 2.5)]\n",
    "        df = self.spark.createDataFrame(data, schema=schema)\n",
    "\n",
    "        with patch(\"builtins.print\") as mocked_print:\n",
    "            feature_distribution_analysis(df, [\"feature1\", \"feature2\"])\n",
    "            mocked_print.assert_called()\n",
    "    # Prueba la función prediction_distribution_analysis para verificar que analiza y grafica correctamente la distribución de predicciones\n",
    "    def test_prediction_distribution_analysis(self):\n",
    "        schema = StructType([\n",
    "            StructField(\"prediction\", DoubleType(), True)\n",
    "        ])\n",
    "        data = [(0.0,), (1.0,), (1.0,), (0.0,), (0.0,)]\n",
    "        df = self.spark.createDataFrame(data, schema=schema)\n",
    "\n",
    "        with patch(\"matplotlib.pyplot.show\") as mocked_show:\n",
    "            prediction_distribution_analysis(df)\n",
    "            mocked_show.assert_called_once()\n",
    "\n",
    "    # Prueba la función load_data para asegurarse de que carga y convierte correctamente los datos desde un archivo\n",
    "    def test_load_data(self):\n",
    "        schema_casts = {\"col1\": DoubleType(), \"col2\": StringType()}\n",
    "        with patch(\"pyspark.sql.DataFrame.withColumn\") as mocked_with_column:\n",
    "            load_data(\"path/to/file\", schema_casts)\n",
    "            mocked_with_column.assert_called()\n",
    "    # Prueba la función calculate_confusion_matrix para verificar que calcula correctamente los valores de la matriz de confusión\n",
    "    def test_calculate_confusion_matrix(self):\n",
    "        schema = StructType([\n",
    "            StructField(\"prediction\", DoubleType(), True),\n",
    "            StructField(\"is_fraud\", DoubleType(), True)\n",
    "        ])\n",
    "        data = [(1.0, 1.0), (0.0, 0.0), (1.0, 0.0), (0.0, 1.0)]\n",
    "        df = self.spark.createDataFrame(data, schema=schema)\n",
    "\n",
    "        result = calculate_confusion_matrix(df)\n",
    "        self.assertEqual(result[\"tp\"], 1)\n",
    "        self.assertEqual(result[\"fp\"], 1)\n",
    "        self.assertEqual(result[\"tn\"], 1)\n",
    "        self.assertEqual(result[\"fn\"], 1)\n",
    "    # Prueba la función calculate_metrics para asegurarse de que calcula correctamente métricas como accuracy, precision, recall y F1-score\n",
    "    def test_calculate_metrics(self):\n",
    "        confusion_matrix = {\"tp\": 50, \"fp\": 10, \"tn\": 30, \"fn\": 10}\n",
    "        result = calculate_metrics(confusion_matrix)\n",
    "\n",
    "        self.assertAlmostEqual(result[\"accuracy\"], 0.8)\n",
    "        self.assertAlmostEqual(result[\"precision\"], 0.8333, places=4)\n",
    "        self.assertAlmostEqual(result[\"recall\"], 0.8333, places=4)\n",
    "        self.assertAlmostEqual(result[\"f1_score\"], 0.8333, places=4)\n",
    "    # Prueba la función plot_confusion_matrix para verificar que grafica correctamente la matriz de confusión\n",
    "    def test_plot_confusion_matrix(self):\n",
    "        with patch(\"matplotlib.pyplot.show\") as mocked_show:\n",
    "            plot_confusion_matrix(50, 10, 10, 30)\n",
    "            mocked_show.assert_called_once()\n",
    "    # Prueba la función plot_metric_distribution para asegurarse de que grafica correctamente las métricas del modelo\n",
    "    def test_plot_metric_distribution(self):\n",
    "        with patch(\"matplotlib.pyplot.show\") as mocked_show:\n",
    "            plot_metric_distribution([\"accuracy\", \"precision\"], [0.9, 0.8], \"Test Metrics\")\n",
    "            mocked_show.assert_called_once()\n",
    "    # Prueba la función plot_probability_distribution para verificar que grafica correctamente la distribución de probabilidades predichas\n",
    "    def test_plot_probability_distribution(self):\n",
    "        with patch(\"matplotlib.pyplot.show\") as mocked_show:\n",
    "            plot_probability_distribution([0.1, 0.5, 0.8, 0.7])\n",
    "            mocked_show.assert_called_once()"
   ]
  },
  {
   "cell_type": "code",
   "execution_count": 0,
   "metadata": {
    "application/vnd.databricks.v1+cell": {
     "cellMetadata": {},
     "inputWidgets": {},
     "nuid": "cdd80d35-3705-458a-8d8d-a26cb71840f7",
     "showTitle": false,
     "tableResultSettingsMap": {},
     "title": ""
    }
   },
   "outputs": [],
   "source": []
  }
 ],
 "metadata": {
  "application/vnd.databricks.v1+notebook": {
   "computePreferences": null,
   "dashboards": [],
   "environmentMetadata": {
    "base_environment": "",
    "client": "1"
   },
   "language": "python",
   "notebookMetadata": {
    "pythonIndentUnit": 4
   },
   "notebookName": "4.-Model Evaluation & Monitoring - Docs and Exp",
   "widgets": {}
  }
 },
 "nbformat": 4,
 "nbformat_minor": 0
}
